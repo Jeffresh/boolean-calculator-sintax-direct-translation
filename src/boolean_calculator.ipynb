{
 "metadata": {
  "language_info": {
   "codemirror_mode": {
    "name": "ipython",
    "version": 3
   },
   "file_extension": ".py",
   "mimetype": "text/x-python",
   "name": "python",
   "nbconvert_exporter": "python",
   "pygments_lexer": "ipython3",
   "version": "3.8.6-final"
  },
  "orig_nbformat": 2,
  "kernelspec": {
   "name": "Python 3.8.6 64-bit ('.env')",
   "display_name": "Python 3.8.6 64-bit ('.env')",
   "metadata": {
    "interpreter": {
     "hash": "670c070a256f9356f9d5b5cdda821693c866c8d2d322d4016e4f84da8999a305"
    }
   }
  }
 },
 "nbformat": 4,
 "nbformat_minor": 2,
 "cells": [
  {
   "source": [
    "# Boolean Calculator: Top-down Parser\n",
    "\n",
    "\n",
    "## Translation scheme\n",
    "\n",
    "|Translation scheme                                                                                   |\n",
    "|-----------------------------------------------------------------------------------------------------|\n",
    "| entry -> `print` exprOR `;`{write('The result is {exprOR.s} ;')}                                    |\n",
    "| entry -> asign `;`                                                                                    |\n",
    "| asign -> `ID` `=` exprOR   { Table\\[ID\\] = exprOR.s }                                                 |\n",
    "| exprOR -> exprAND { exprOR'.h = exprAND.s} exprOR' { exprOR.s = eprOR' }                            |\n",
    "| exprOR' -> `or` exprAND { exprOR_1'.h = exprOR.h or exprAND.s } exprOR_1' { exprOR'.s = exprOR_1.s }|\n",
    "| exprOR' -> e { exprOR'.s = exprOR'.h }                                                              |\n",
    "| exprAND -> boolean { exprAND'.h = boolean.s } exprAND' { exprAND.s = exprAND'.s }                   |\n",
    "| exprAND' -> `and` boolean { exprAND_1.h = exprAND'.h and boolean.s} exprAND_1'{exprAND'.s = exprAND_1'.s } |\n",
    "| exprAND' -> e { exprAND'.s = exprAND'.h }                                                           |\n",
    "| boolean -> not boolean_1 { boolean.s = not boolean_1.s }                                            |\n",
    "| boolean -> `CBOOLEAN` { boolean.s = CBOOLEAN.lexval }                                               |\n",
    "| boolean -> `ID` { boolean.s = table\\[ID.lexval\\] }                                                    |\n",
    "| boolean -> `(` exprOR `)` { boolean.s = exprOR.s }                                                  |\n",
    "\n",
    "\n",
    "## First and Follow sets\n",
    "\n",
    "| Sintactic rules                    |\n",
    "|------------------------------------|\n",
    "| entry -> `print` exprOR `;`        |\n",
    "| entry -> asign `;`                   |\n",
    "| asign -> `ID` `=` exprOR           |\n",
    "| exprOR -> exprAND exprOR'          |\n",
    "| exprOR' -> `or` exprAND exprOR'    |\n",
    "| exprOR' -> e                       |\n",
    "| exprAND -> boolean exprAND'        |\n",
    "| exprAND' -> `and` boolean exprAND' |\n",
    "| exprAND' -> e                      |\n",
    "| boolean -> not boolean             |\n",
    "| boolean -> `CBOOLEAN`              |\n",
    "| boolean -> `ID`                    |\n",
    "| boolean -> `(` exprOR `)`          |\n",
    "\n",
    "\n",
    "### First set\n",
    "\n",
    "```\n",
    "First(entry) = { Print , ID}\n",
    "First(asign) = { ID }\n",
    "First(ExprOR) = { not, CBOOLEAN, ID, '(' }\n",
    "First(ExprOR') = { 'or', e }\n",
    "First(ExprAND) = { not, CBOOLEAN, ID, '(' }\n",
    "First(ExprAND') = { and, e }\n",
    "First(Boolean) = {not, CBOOLEAN, ID, '(' }\n",
    "```\n",
    "\n",
    "### Follow set\n",
    "```\n",
    "Follow(entry) = {$}\n",
    "Follow(asign) = {';'}\n",
    "Follow(exprOR) = Follow(asign) U {')'} = { ';', ')' }\n",
    "Follow(exprOR') = Follow(exprOR) U Follow(exprOR')  = { ';', ')' }\n",
    "Follow(exprAND) = First(exprOR') - {e} U Follow(exprOR') = {or, ';', ')' }\n",
    "Follow(exprAND') = Follow(exprAND) U Follow(exprAND') = {or, ';', ')' }\n",
    "Follow(boolean) = First(exprAND') - {e} U  Follow(exprAND) U Follow(boolean) U { ')' } = {and, or, ';', ')'}\n",
    "```"
   ],
   "cell_type": "markdown",
   "metadata": {}
  },
  {
   "source": [
    "# Necessary libraries"
   ],
   "cell_type": "markdown",
   "metadata": {}
  },
  {
   "cell_type": "code",
   "execution_count": 1,
   "metadata": {},
   "outputs": [
    {
     "output_type": "stream",
     "name": "stdout",
     "text": [
      "Collecting sly\n",
      "  Using cached sly-0.4.tar.gz (60 kB)\n",
      "Using legacy 'setup.py install' for sly, since package 'wheel' is not installed.\n",
      "Installing collected packages: sly\n",
      "    Running setup.py install for sly: started\n",
      "    Running setup.py install for sly: finished with status 'done'\n",
      "Successfully installed sly-0.4\n",
      "WARNING: You are using pip version 20.2.1; however, version 20.2.4 is available.\n",
      "You should consider upgrading via the 'c:\\users\\los_g\\onedrive\\documentos\\pl\\pl-2020\\prácticas\\boolean-calculator-sintax-direct-translation\\.env\\scripts\\python.exe -m pip install --upgrade pip' command.\n"
     ]
    }
   ],
   "source": [
    "!pip install sly"
   ]
  },
  {
   "source": [
    "# Lexer implementation"
   ],
   "cell_type": "markdown",
   "metadata": {}
  },
  {
   "cell_type": "code",
   "execution_count": 12,
   "metadata": {},
   "outputs": [],
   "source": [
    "from sly import Lexer\n",
    "\n",
    "class BooleanCalcLexer(Lexer):\n",
    "    tokens = {ID, CBOOLEAN, ASG, NOT, OR, AND}\n",
    "    ignore = ' \\t'\n",
    "    literals = {';', '(', ')'}\n",
    "\n",
    "    # Regular expression rules for tokens\n",
    "    ID = r'[a-zA-Z_][a-zA-Z0-9]*'\n",
    "    ID['not'] = NOT\n",
    "    ID['and'] = AND\n",
    "    ID['or'] = OR\n",
    "    ID['false'] = CBOOLEAN\n",
    "    ID['true'] = CBOOLEAN\n",
    "    ASG = r':='\n",
    "\n",
    "    @_(r'\\n+')\n",
    "    def newline(self, t):\n",
    "        self.lineno += t.value.count('\\n')\n",
    "    \n",
    "    def error(self, t):\n",
    "        print(\"line {}: Bad character %r\" % (self.lineno, t.value[0]))\n",
    "        self.index += 1"
   ]
  },
  {
   "cell_type": "code",
   "execution_count": 13,
   "metadata": {},
   "outputs": [
    {
     "output_type": "stream",
     "name": "stdout",
     "text": [
      "Token(type='ID', value='z', lineno=1, index=0)\nToken(type='ASG', value=':=', lineno=1, index=2)\nToken(type='CBOOLEAN', value='true', lineno=1, index=5)\nToken(type='OR', value='or', lineno=1, index=10)\nToken(type='NOT', value='not', lineno=1, index=13)\nToken(type='(', value='(', lineno=1, index=17)\nToken(type='ID', value='x', lineno=1, index=18)\nToken(type='AND', value='and', lineno=1, index=20)\nToken(type='NOT', value='not', lineno=1, index=24)\nToken(type='ID', value='y', lineno=1, index=28)\nToken(type=')', value=')', lineno=1, index=29)\nToken(type=';', value=';', lineno=1, index=30)\n"
     ]
    }
   ],
   "source": [
    "    if __name__ == '__main__':\n",
    "        data = 'z := true or not (x and not y);'\n",
    "        lexer = BooleanCalcLexer()\n",
    "        for token in lexer.tokenize(data):\n",
    "            print(token)"
   ]
  }
 ]
}