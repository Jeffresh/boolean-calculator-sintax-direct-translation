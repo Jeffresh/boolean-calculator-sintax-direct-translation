{
 "metadata": {
  "language_info": {
   "codemirror_mode": {
    "name": "ipython",
    "version": 3
   },
   "file_extension": ".py",
   "mimetype": "text/x-python",
   "name": "python",
   "nbconvert_exporter": "python",
   "pygments_lexer": "ipython3",
   "version": 3
  },
  "orig_nbformat": 2
 },
 "nbformat": 4,
 "nbformat_minor": 2,
 "cells": [
  {
   "source": [
    "# Boolean Calculator: Top-down Parser\n",
    "\n",
    "\n",
    "## Translation scheme\n",
    "\n",
    "|Translation scheme                                                                                   |\n",
    "|-----------------------------------------------------------------------------------------------------|\n",
    "| entry -> `print` exprOR `;`{write('The result is {exprOR.s} ;')}                                    |\n",
    "| def -> asign `;`                                                                                    |\n",
    "| asign -> `ID` `=` exprOR   { Table\\[ID\\] = exprOR.s }                                                 |\n",
    "| exprOR -> exprAND { exprOR'.h = exprAND.s} exprOR' { exprOR.s = eprOR' }                            |\n",
    "| exprOR' -> `or` exprAND { exprOR_1'.h = exprOR.h or exprAND.s } exprOR_1' { exprOR'.s = exprOR_1.s }|\n",
    "| exprOR' -> e { exprOR'.s = exprOR'.h }                                                              |\n",
    "| exprAND -> boolean { exprAND'.h = boolean.s } exprAND' { exprAND.s = exprAND'.s }                   |\n",
    "| exprAND' -> `and` boolean { exprAND_1.h = exprAND'.h and boolean.s} exprAND_1'{exprAND'.s = exprAND_1'.s } |\n",
    "| exprAND' -> e { exprAND'.s = exprAND'.h }                                                           |\n",
    "| boolean -> not boolean_1 { boolean.s = not boolean_1.s }                                            |\n",
    "| boolean -> `CBOOLEAN` { boolean.s = CBOOLEAN.lexval }                                               |\n",
    "| boolean -> `ID` { boolean.s = table\\[ID.lexval\\] }                                                    |\n",
    "| boolean -> `(` exprOR `)` { boolean.s = exprOR.s }                                                  |\n",
    "\n",
    "\n",
    "## First and Follow sets\n",
    "\n",
    "| Sintactic rules                    |\n",
    "|------------------------------------|\n",
    "| entry -> `print` exprOR `;`        |\n",
    "| def -> asign `;`                   |\n",
    "| asign -> `ID` `=` exprOR           |\n",
    "| exprOR -> exprAND exprOR'          |\n",
    "| exprOR' -> `or` exprAND exprOR'    |\n",
    "| exprOR' -> e                       |\n",
    "| exprAND -> boolean exprAND'        |\n",
    "| exprAND' -> `and` boolean exprAND' |\n",
    "| exprAND' -> e                      |\n",
    "| boolean -> not boolean             |\n",
    "| boolean -> `CBOOLEAN`              |\n",
    "| boolean -> `ID`                    |\n",
    "| boolean -> `(` exprOR `)`          |\n",
    "\n",
    "\n",
    "### First set\n",
    "\n",
    "```\n",
    "First(entry) = { Print , ID}\n",
    "First(asign) = { ID }\n",
    "First(ExprOR) = { not, CBOOLEAN, ID, '(' }\n",
    "First(ExprOR') = { 'or', e }\n",
    "First(ExprAND) = { not, CBOOLEAN, ID, '(' }\n",
    "First(ExprAND') = { and, e }\n",
    "First(Boolean) = {not, CBOOLEAN, ID, '(' }\n",
    "```"
   ],
   "cell_type": "markdown",
   "metadata": {}
  }
 ]
}